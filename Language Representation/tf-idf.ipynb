{
 "cells": [
  {
   "attachments": {},
   "cell_type": "markdown",
   "metadata": {},
   "source": [
    "#### TF-IDF - Term Frequency-Inverse Document Frequency"
   ]
  },
  {
   "cell_type": "code",
   "execution_count": 1,
   "metadata": {},
   "outputs": [],
   "source": [
    "import torch\n",
    "from collections import Counter\n",
    "import math"
   ]
  },
  {
   "cell_type": "code",
   "execution_count": 2,
   "metadata": {},
   "outputs": [],
   "source": [
    "# Definindo o corpus de texto\n",
    "corpus = ['Este é o primeiro documento.', 'Este é o segundo documento.', 'Este é o terceiro documento.', 'Este é o quarto documento.']"
   ]
  },
  {
   "cell_type": "code",
   "execution_count": 3,
   "metadata": {},
   "outputs": [],
   "source": [
    "# Criando um vocabulário a partir do corpus\n",
    "vocab = set([word for doc in corpus for word in doc.split()])"
   ]
  },
  {
   "cell_type": "code",
   "execution_count": 4,
   "metadata": {},
   "outputs": [],
   "source": [
    "# Mapeando cada palavra do vocabulário para um índice inteiro\n",
    "word_to_ix = {word: i for i, word in enumerate(vocab)}"
   ]
  },
  {
   "cell_type": "code",
   "execution_count": 6,
   "metadata": {},
   "outputs": [],
   "source": [
    "# Calculando o IDF de cada palavra do vocabulário\n",
    "num_docs = len(corpus)\n",
    "idf = {}\n",
    "\n",
    "for word in vocab:\n",
    "    count = sum([1 for doc in corpus if word in doc.split()])\n",
    "    idf[word] = math.log(num_docs / count)"
   ]
  },
  {
   "cell_type": "code",
   "execution_count": 10,
   "metadata": {},
   "outputs": [
    {
     "data": {
      "text/plain": [
       "{'quarto': 1.3862943611198906,\n",
       " 'o': 0.0,\n",
       " 'Este': 0.0,\n",
       " 'primeiro': 1.3862943611198906,\n",
       " 'documento.': 0.0,\n",
       " 'é': 0.0,\n",
       " 'terceiro': 1.3862943611198906,\n",
       " 'segundo': 1.3862943611198906}"
      ]
     },
     "execution_count": 10,
     "metadata": {},
     "output_type": "execute_result"
    }
   ],
   "source": [
    "idf"
   ]
  },
  {
   "cell_type": "code",
   "execution_count": 11,
   "metadata": {},
   "outputs": [],
   "source": [
    "docs_as_tfidf = []\n",
    "for doc in corpus:\n",
    "    tf_vector = torch.zeros(len(vocab))\n",
    "    for word in doc.split():\n",
    "        tf_vector[word_to_ix[word]] += 1\n",
    "    \n",
    "    tf_vector = tf_vector / len(doc.split()) # Normalizando o vetor pelo tamanho do documento\n",
    "    tfidf_vector = tf_vector * torch.tensor([idf[word] for word in vocab]) # Multiplicando pelo IDF de cada palavra\n",
    "\n",
    "    docs_as_tfidf.append(tfidf_vector)"
   ]
  },
  {
   "cell_type": "code",
   "execution_count": 13,
   "metadata": {},
   "outputs": [
    {
     "name": "stdout",
     "output_type": "stream",
     "text": [
      "Documento 1:\n",
      "tensor([0.0000, 0.0000, 0.0000, 0.2773, 0.0000, 0.0000, 0.0000, 0.0000])\n",
      "\n",
      "Documento 2:\n",
      "tensor([0.0000, 0.0000, 0.0000, 0.0000, 0.0000, 0.0000, 0.0000, 0.2773])\n",
      "\n",
      "Documento 3:\n",
      "tensor([0.0000, 0.0000, 0.0000, 0.0000, 0.0000, 0.0000, 0.2773, 0.0000])\n",
      "\n",
      "Documento 4:\n",
      "tensor([0.2773, 0.0000, 0.0000, 0.0000, 0.0000, 0.0000, 0.0000, 0.0000])\n",
      "\n"
     ]
    }
   ],
   "source": [
    "for i, doc in enumerate(docs_as_tfidf):\n",
    "    print(f\"Documento {i+1}:\\n{doc}\\n\")"
   ]
  }
 ],
 "metadata": {
  "kernelspec": {
   "display_name": ".venv",
   "language": "python",
   "name": "python3"
  },
  "language_info": {
   "codemirror_mode": {
    "name": "ipython",
    "version": 3
   },
   "file_extension": ".py",
   "mimetype": "text/x-python",
   "name": "python",
   "nbconvert_exporter": "python",
   "pygments_lexer": "ipython3",
   "version": "3.10.6"
  },
  "orig_nbformat": 4
 },
 "nbformat": 4,
 "nbformat_minor": 2
}

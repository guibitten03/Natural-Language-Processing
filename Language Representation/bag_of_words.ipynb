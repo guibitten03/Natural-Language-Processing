{
 "cells": [
  {
   "cell_type": "code",
   "execution_count": 1,
   "metadata": {},
   "outputs": [],
   "source": [
    "import torch\n",
    "from collections import Counter"
   ]
  },
  {
   "cell_type": "code",
   "execution_count": 2,
   "metadata": {},
   "outputs": [],
   "source": [
    "# Definindo um vocabulário a partir do corpus\n",
    "corpus = ['Este é o primeiro documento.', 'Este é o segundo documento.', 'Este é o terceiro documento.', 'Este é o quarto documento.']"
   ]
  },
  {
   "cell_type": "code",
   "execution_count": 3,
   "metadata": {},
   "outputs": [],
   "source": [
    "# Criando um vocabulario a partir do corpus\n",
    "vocab = set([word for doc in corpus for word in doc.split()])"
   ]
  },
  {
   "cell_type": "code",
   "execution_count": 4,
   "metadata": {},
   "outputs": [
    {
     "data": {
      "text/plain": [
       "{'segundo': 0,\n",
       " 'Este': 1,\n",
       " 'terceiro': 2,\n",
       " 'documento.': 3,\n",
       " 'primeiro': 4,\n",
       " 'quarto': 5,\n",
       " 'é': 6,\n",
       " 'o': 7}"
      ]
     },
     "execution_count": 4,
     "metadata": {},
     "output_type": "execute_result"
    }
   ],
   "source": [
    "# Mapeando cada palavra do vocabulario em um indice inteiro\n",
    "word_to_idx = {word:i for i, word in enumerate(vocab)}\n",
    "word_to_idx"
   ]
  },
  {
   "cell_type": "code",
   "execution_count": 5,
   "metadata": {},
   "outputs": [],
   "source": [
    "# Representando cada documento como um vetor de bag of words\n",
    "docs_as_bow = []\n",
    "\n",
    "for doc in corpus:\n",
    "    bow_vector = torch.zeros(len(vocab))\n",
    "    for word in doc.split():\n",
    "        bow_vector[word_to_idx[word]] += 1\n",
    "        \n",
    "    docs_as_bow.append(bow_vector)"
   ]
  },
  {
   "cell_type": "code",
   "execution_count": 6,
   "metadata": {},
   "outputs": [
    {
     "name": "stdout",
     "output_type": "stream",
     "text": [
      "Documento 1:\n",
      "tensor([0., 1., 0., 1., 1., 0., 1., 1.])\n",
      "\n",
      "Documento 2:\n",
      "tensor([1., 1., 0., 1., 0., 0., 1., 1.])\n",
      "\n",
      "Documento 3:\n",
      "tensor([0., 1., 1., 1., 0., 0., 1., 1.])\n",
      "\n",
      "Documento 4:\n",
      "tensor([0., 1., 0., 1., 0., 1., 1., 1.])\n",
      "\n"
     ]
    }
   ],
   "source": [
    "# Imprimindo a representação bag of words de cada documento\n",
    "for i, doc in enumerate(docs_as_bow):\n",
    "    print(f\"Documento {i+1}:\\n{doc}\\n\")"
   ]
  }
 ],
 "metadata": {
  "kernelspec": {
   "display_name": ".venv",
   "language": "python",
   "name": "python3"
  },
  "language_info": {
   "codemirror_mode": {
    "name": "ipython",
    "version": 3
   },
   "file_extension": ".py",
   "mimetype": "text/x-python",
   "name": "python",
   "nbconvert_exporter": "python",
   "pygments_lexer": "ipython3",
   "version": "3.10.6"
  },
  "orig_nbformat": 4
 },
 "nbformat": 4,
 "nbformat_minor": 2
}

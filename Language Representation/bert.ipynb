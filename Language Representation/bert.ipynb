{
 "cells": [
  {
   "attachments": {},
   "cell_type": "markdown",
   "metadata": {},
   "source": [
    "BERT (Bidirectional Encoder Representations from Transformers) é um modelo de linguagem pré-treinado desenvolvido pelo Google que é capaz de capturar informações contextuais de uma sentença inteira. Ele foi introduzido em 2018 por Jacob Devlin e sua equipe na Google AI Language.\n",
    "\n",
    "O BERT utiliza uma arquitetura de rede neural baseada em Transformers, que é capaz de processar toda a sequência de entrada de uma vez só, ao contrário de outros modelos de linguagem que processam a sequência de forma sequencial ou com convoluções. A principal característica do BERT é que ele é treinado em duas tarefas: previsão de palavras mascaradas (Masked Language Model) e previsão de próxima sentença (Next Sentence Prediction), utilizando um grande conjunto de dados de textos."
   ]
  },
  {
   "cell_type": "code",
   "execution_count": 2,
   "metadata": {},
   "outputs": [
    {
     "name": "stderr",
     "output_type": "stream",
     "text": [
      "/home/guibitten/code/.venv/lib/python3.10/site-packages/tqdm/auto.py:21: TqdmWarning: IProgress not found. Please update jupyter and ipywidgets. See https://ipywidgets.readthedocs.io/en/stable/user_install.html\n",
      "  from .autonotebook import tqdm as notebook_tqdm\n"
     ]
    }
   ],
   "source": [
    "import torch\n",
    "from transformers import BertTokenizer, BertModel"
   ]
  },
  {
   "cell_type": "code",
   "execution_count": null,
   "metadata": {},
   "outputs": [
    {
     "name": "stderr",
     "output_type": "stream",
     "text": [
      "Downloading pytorch_model.bin:   5%|▍         | 21.0M/440M [01:37<27:17, 256kB/s]"
     ]
    }
   ],
   "source": [
    "# Carregando o modelo e o tokenizer do BERT\n",
    "model = BertModel.from_pretrained('bert-base-uncased', output_hidden_states=True)\n",
    "tokenizer = BertTokenizer.from_pretrained('bert-base-uncased')"
   ]
  },
  {
   "cell_type": "code",
   "execution_count": null,
   "metadata": {},
   "outputs": [],
   "source": [
    "# Definindo o texto a ser representado\n",
    "texto = \"Exemplo de texto para gerar embeddings usando BERT\""
   ]
  },
  {
   "cell_type": "code",
   "execution_count": null,
   "metadata": {},
   "outputs": [],
   "source": [
    "# Convertendo o texto para tokens do BERT\n",
    "tokens = tokenizer.encode(texto, add_special_tokens=True)"
   ]
  },
  {
   "cell_type": "code",
   "execution_count": null,
   "metadata": {},
   "outputs": [],
   "source": [
    "# Convertendo os tokens para tensores do PyTorch\n",
    "input_ids = torch.tensor([tokens])"
   ]
  },
  {
   "cell_type": "code",
   "execution_count": null,
   "metadata": {},
   "outputs": [],
   "source": [
    "# Obtendo as camadas de saída do BERT\n",
    "with torch.no_grad():\n",
    "    outputs = model(input_ids)\n",
    "    embeddings = outputs[2][-1]  # Última camada de saída do BERT"
   ]
  },
  {
   "cell_type": "code",
   "execution_count": null,
   "metadata": {},
   "outputs": [],
   "source": [
    "# Selecionando as representações das palavras do texto\n",
    "palavras = texto.split()\n",
    "palavra_indices = [tokens.index(tokenizer.encode(palavra)[0]) for palavra in palavras]\n",
    "palavra_embeddings = embeddings[palavra_indices]"
   ]
  },
  {
   "cell_type": "code",
   "execution_count": null,
   "metadata": {},
   "outputs": [],
   "source": [
    "\n",
    "# Imprimindo as representações das palavras\n",
    "print(palavra_embeddings)"
   ]
  }
 ],
 "metadata": {
  "kernelspec": {
   "display_name": ".venv",
   "language": "python",
   "name": "python3"
  },
  "language_info": {
   "codemirror_mode": {
    "name": "ipython",
    "version": 3
   },
   "file_extension": ".py",
   "mimetype": "text/x-python",
   "name": "python",
   "nbconvert_exporter": "python",
   "pygments_lexer": "ipython3",
   "version": "3.10.6"
  },
  "orig_nbformat": 4
 },
 "nbformat": 4,
 "nbformat_minor": 2
}
